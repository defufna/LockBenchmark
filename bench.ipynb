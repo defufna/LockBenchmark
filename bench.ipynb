{
 "cells": [
  {
   "cell_type": "code",
   "execution_count": null,
   "metadata": {},
   "outputs": [],
   "source": [
    "import re\n",
    "r = re.compile(\"(.*)\\[(\\d*)\\]: (.*)\")"
   ]
  },
  {
   "cell_type": "code",
   "execution_count": 6,
   "metadata": {},
   "outputs": [],
   "source": [
    "with open(\"./results.txt\", \"r\") as f:\n",
    "\tlines = f.readlines()\n",
    "\tlines = [line.strip() for line in lines[2:]]\n",
    "\n",
    "parsed = {}\n",
    "for line in lines:\n",
    "\tname, threads, counts = r.match(line).groups()\n",
    "\n",
    "\tif name not in parsed:\n",
    "\t\tparsed[name] = []\n",
    "\n",
    "\tcounts = [int(count) for count in counts.split(\",\")]\n",
    "\tavg = sum(counts)/len(counts)\n",
    "\tparsed[name].append((int(threads), avg))\n",
    "\n",
    "def get_values(name): return [value for _, value in parsed[name]]\n",
    "\n",
    "t = [thread for thread, _ in next(iter(parsed.values()))]\n",
    "\n",
    "read_lock_net = get_values(\"TakeReadLockMS\")\n",
    "read_lock_vlx = get_values(\"TakeReadLockVLX\")\n",
    "read_write_net = get_values(\"TakeWriteLockMS\")\n",
    "read_write_vlx = get_values(\"TakeWriteLockVLX\")\n"
   ]
  },
  {
   "cell_type": "code",
   "execution_count": 7,
   "metadata": {},
   "outputs": [],
   "source": [
    "line = lines[0]\n"
   ]
  },
  {
   "cell_type": "code",
   "execution_count": 8,
   "metadata": {},
   "outputs": [
    {
     "data": {
      "text/plain": [
       "'TakeReadLockMS[1]: 1261053900, 1259936800, 1261924000, 1261942300'"
      ]
     },
     "execution_count": 8,
     "metadata": {},
     "output_type": "execute_result"
    }
   ],
   "source": [
    "line"
   ]
  },
  {
   "cell_type": "code",
   "execution_count": 9,
   "metadata": {},
   "outputs": [],
   "source": []
  },
  {
   "cell_type": "code",
   "execution_count": 38,
   "metadata": {},
   "outputs": [],
   "source": [
    "parsed = {}\n",
    "for line in lines:\n",
    "\tname, threads, counts = r.match(line).groups()\n",
    "\n",
    "\tif name not in parsed:\n",
    "\t\tparsed[name] = []\n",
    "\n",
    "\tcounts = [int(count) for count in counts.split(\",\")]\n",
    "\tavg = sum(counts)/len(counts)\n",
    "\tparsed[name].append((int(threads), avg))\n",
    "\n",
    "def get_values(name): return [value for _, value in parsed[name]]\n",
    "\n",
    "t = [thread for thread, _ in next(iter(parsed.values()))]\n",
    "\n",
    "read_lock_net = get_values(\"TakeReadLockMS\")\n",
    "read_lock_vlx = get_values(\"TakeReadLockVLX\")\n",
    "read_write_net = get_values(\"TakeWriteLockMS\")\n",
    "read_write_vlx = get_values(\"TakeWriteLockVLX\")\n"
   ]
  },
  {
   "cell_type": "code",
   "execution_count": 40,
   "metadata": {},
   "outputs": [
    {
     "data": {
      "text/plain": [
       "[1595689800.0,\n",
       " 3065682950.0,\n",
       " 6160680875.0,\n",
       " 13073344000.0,\n",
       " 19676187100.0,\n",
       " 26192588975.0,\n",
       " 28453882375.0,\n",
       " 30716005225.0]"
      ]
     },
     "execution_count": 40,
     "metadata": {},
     "output_type": "execute_result"
    }
   ],
   "source": [
    "read_lock_vlx"
   ]
  },
  {
   "cell_type": "code",
   "execution_count": null,
   "metadata": {},
   "outputs": [],
   "source": []
  }
 ],
 "metadata": {
  "kernelspec": {
   "display_name": "Python 3",
   "language": "python",
   "name": "python3"
  },
  "language_info": {
   "codemirror_mode": {
    "name": "ipython",
    "version": 3
   },
   "file_extension": ".py",
   "mimetype": "text/x-python",
   "name": "python",
   "nbconvert_exporter": "python",
   "pygments_lexer": "ipython3",
   "version": "3.10.9"
  },
  "orig_nbformat": 4,
  "vscode": {
   "interpreter": {
    "hash": "767d51c1340bd893661ea55ea3124f6de3c7a262a8b4abca0554b478b1e2ff90"
   }
  }
 },
 "nbformat": 4,
 "nbformat_minor": 2
}
